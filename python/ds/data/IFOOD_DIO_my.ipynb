{
  "nbformat": 4,
  "nbformat_minor": 0,
  "metadata": {
    "colab": {
      "provenance": [],
      "authorship_tag": "ABX9TyO+UDGo8MLOS/Q6yILw7ugW",
      "include_colab_link": true
    },
    "kernelspec": {
      "name": "python3",
      "display_name": "Python 3"
    },
    "language_info": {
      "name": "python"
    }
  },
  "cells": [
    {
      "cell_type": "markdown",
      "metadata": {
        "id": "view-in-github",
        "colab_type": "text"
      },
      "source": [
        "<a href=\"https://colab.research.google.com/github/joseCarlosAndrade/dev-jc/blob/main/python/ds/data/IFOOD_DIO_my.ipynb\" target=\"_parent\"><img src=\"https://colab.research.google.com/assets/colab-badge.svg\" alt=\"Open In Colab\"/></a>"
      ]
    },
    {
      "cell_type": "markdown",
      "source": [
        "# IFOOD DIO - Dev week data science | Bootcamp\n",
        "\n",
        "Bootcamp de ciencia de dados da plataforma DIO.\n"
      ],
      "metadata": {
        "id": "llkxjbsAb5MS"
      }
    },
    {
      "cell_type": "code",
      "source": [
        "\"\"\"\n",
        "Arquivo publico no meu Google Drive para acesso a partir deste ambiente:\n",
        "https://drive.google.com/file/d/1W3aI76719Kn5Cq-7Bl4MiuV-HpdKcO2E/view?usp=sharing\n",
        "\"\"\"\n",
        "\n",
        "# Baixar arquivos a partir do google drive para este ambiente\n",
        "import gdown\n",
        "import pandas as pd\n",
        "\n",
        "file_id = '1W3aI76719Kn5Cq-7Bl4MiuV-HpdKcO2E'\n",
        "gdown.download(f'https://drive.google.com/uc?id={file_id}', 'feedbacks.csv')"
      ],
      "metadata": {
        "colab": {
          "base_uri": "https://localhost:8080/",
          "height": 105
        },
        "id": "HQWdbA2Rn05j",
        "outputId": "3656b6c4-0352-4849-cb6f-ad599bd6f01a"
      },
      "execution_count": 1,
      "outputs": [
        {
          "output_type": "stream",
          "name": "stderr",
          "text": [
            "Downloading...\n",
            "From: https://drive.google.com/uc?id=1W3aI76719Kn5Cq-7Bl4MiuV-HpdKcO2E\n",
            "To: /content/feedbacks.csv\n",
            "100%|██████████| 176/176 [00:00<00:00, 473kB/s]\n"
          ]
        },
        {
          "output_type": "execute_result",
          "data": {
            "text/plain": [
              "'feedbacks.csv'"
            ],
            "application/vnd.google.colaboratory.intrinsic+json": {
              "type": "string"
            }
          },
          "metadata": {},
          "execution_count": 1
        }
      ]
    },
    {
      "cell_type": "code",
      "execution_count": 2,
      "metadata": {
        "id": "vcOaH_Z_bcXe"
      },
      "outputs": [],
      "source": [
        "# Lendo o arquivo baixado\n",
        "dados = pd.read_csv(\"/content/feedbacks.csv\", delimiter=\";\")"
      ]
    },
    {
      "cell_type": "code",
      "source": [
        "# Itera por todos os elementos para mostr\n",
        "\n",
        "for i, j in dados.iterrows():\n",
        "  print(\"Indice: \", i, \"; Informações - Nota: \", j[\"nota\"], \"; Comentario: \", j[\"comentario\"])"
      ],
      "metadata": {
        "colab": {
          "base_uri": "https://localhost:8080/"
        },
        "id": "MaA2-_XlcNrK",
        "outputId": "331aa511-530f-45a0-92f7-b1aa916e03d3"
      },
      "execution_count": 3,
      "outputs": [
        {
          "output_type": "stream",
          "name": "stdout",
          "text": [
            "Indice:  0 ; Informações - Nota:  1 ; Comentario:  pessimo odiei!\n",
            "Indice:  1 ; Informações - Nota:  5 ; Comentario:  mediano, ja vi melhores\n",
            "Indice:  2 ; Informações - Nota:  6 ; Comentario:  entendi conceitos novos, porem nada de especial\n",
            "Indice:  3 ; Informações - Nota:  2 ; Comentario:  horrivel\n",
            "Indice:  4 ; Informações - Nota:  7 ; Comentario:  deu pro gasto\n",
            "Indice:  5 ; Informações - Nota:  4 ; Comentario:  me arrependi\n",
            "Indice:  6 ; Informações - Nota:  9 ; Comentario:  bom\n",
            "Indice:  7 ; Informações - Nota:  10 ; Comentario:  filho do dono\n"
          ]
        }
      ]
    },
    {
      "cell_type": "code",
      "source": [
        "# Paradigma funcional com algumas funcionalidades especificas do pandas\n",
        "def calcular_nps(notas: pd.Series):\n",
        "  # O primeiro aplica um filtro com apply() que recebe uma lambda function, deixando True os elementos que entram na condiçao\n",
        "  # Apos, o filtro resultante é somado com sum(). Indexação booleana\n",
        "\n",
        "  # No segundo, filtra diretamente as notas >= 9, e conta quantas encaixam com count()\n",
        "  detratores = sum(notas.apply(lambda nota: nota <=6))\n",
        "  promotores = notas[notas >=9].count()\n",
        "\n",
        "  # print(notas.apply(lambda nota: nota <=6))\n",
        "  # print(notas[notas >=9])\n",
        "\n",
        "  return (promotores - detratores) / len(notas)*100\n",
        "\n",
        "notas = dados[\"nota\"]\n",
        "nps = calcular_nps(notas)\n",
        "\n",
        "print(nps)"
      ],
      "metadata": {
        "colab": {
          "base_uri": "https://localhost:8080/"
        },
        "id": "y_A4V6JnrnCJ",
        "outputId": "e48b8b38-5008-4f2d-ceea-ae61d5769ffd"
      },
      "execution_count": 4,
      "outputs": [
        {
          "output_type": "stream",
          "name": "stdout",
          "text": [
            "-37.5\n"
          ]
        }
      ]
    },
    {
      "cell_type": "code",
      "source": [
        "# Paradigma de orientação à objetos\n",
        "\n",
        "class Feedback:\n",
        "  def __init__(self, nota, comentario):\n",
        "    self.nota = nota\n",
        "    self.comentario =comentario\n",
        "\n",
        "class AnalisadorFeedback:\n",
        "  def __init__(self, feedbacks):\n",
        "    self.feedbacks = feedbacks\n",
        "\n",
        "  def calcular_nps(self):\n",
        "    # A lista por dentro cria uma array de 1 para cada condiçao aceita. Apos, sum() soma essa quantidade de 1\n",
        "    detratores = sum([1 for feedback in self.feedbacks if feedback.nota <= 6])\n",
        "    promotores = sum([1 for feedback in self.feedbacks if feedback.nota >= 9])\n",
        "\n",
        "    nps = (promotores - detratores) / len(self.feedbacks)*100\n",
        "    return nps\n",
        "\n",
        "## DUAS OPÇOES PARA GERAR LISTA DE FEEDBACKS\n",
        "# List comprehension - inicializando uma lista de objetos Feedbacks\n",
        "feedbacks = [ Feedback(linha[\"nota\"], linha[\"comentario\"]) for indice, linha in dados.iterrows()]\n",
        "\n",
        "# Filtro com apply e lambda function\n",
        "# axis = 1 -> eixo das linhas, e nao das colunas do dataframe\n",
        "feedbacks = dados.apply(lambda linha: Feedback(linha[\"nota\"], linha[\"comentario\"]), axis=1)\n",
        "\n",
        "analisador = AnalisadorFeedback(feedbacks)\n",
        "nps = analisador.calcular_nps()\n",
        "print(nps)"
      ],
      "metadata": {
        "colab": {
          "base_uri": "https://localhost:8080/"
        },
        "id": "ze-C-XVtepeX",
        "outputId": "54a75497-c8f1-4aaf-b856-19178fc18b82"
      },
      "execution_count": 5,
      "outputs": [
        {
          "output_type": "stream",
          "name": "stdout",
          "text": [
            "-37.5\n"
          ]
        }
      ]
    },
    {
      "cell_type": "markdown",
      "source": [
        "# Plotando gráficos com os dados obtidos\n",
        "\n"
      ],
      "metadata": {
        "id": "-CpFk329vl1x"
      }
    },
    {
      "cell_type": "code",
      "source": [
        "import matplotlib.pyplot as plt\n",
        "import matplotlib.patches as mpatches\n",
        "\n",
        "# Definindo constantes para avaliaçao dos dodos\n",
        "NPS_ZONAS = [\"Critico\", \"Aperfeiçoamento\", \"Qualidade\", \"Excelencia\"]\n",
        "NPS_VALORES = [-100, 0, 50, 75, 100]\n",
        "NPS_CORES = ['red', 'orange', 'blue', 'green']"
      ],
      "metadata": {
        "id": "bNJoFBeBephS"
      },
      "execution_count": 6,
      "outputs": []
    },
    {
      "cell_type": "code",
      "source": [
        "from matplotlib import colors\n",
        "# Criando gráficos\n",
        "\n",
        "def criar_grafico_nps(nps : float):\n",
        "  fig, ax = plt.subplots(figsize=(10,2))\n",
        "\n",
        "  for i, zona in enumerate(NPS_ZONAS):\n",
        "    ax.barh([0], width = NPS_VALORES[i+1]-NPS_VALORES[i], left=NPS_VALORES[i], color=NPS_CORES[i])\n",
        "\n",
        "  ax.barh(0, width=1, left=nps,color='black')\n",
        "\n",
        "  # Tira a escala em y\n",
        "  ax.set_yticks([])\n",
        "\n",
        "  # Seta limite para o eixo x de -100 a 100\n",
        "  ax.set_xlim(-100,100)\n",
        "\n",
        "  # Marcaçoes em x somente para os valores usados\n",
        "  #ax.set_xticks(NPS_VALORES)\n",
        "\n",
        "  plt.text(nps, 0,f'NPS = {nps:.2f}', ha='center', va='center', color='white', bbox=dict(facecolor='black'))\n",
        "\n",
        "  # Adicionar legendas usando mpatches\n",
        "  patches = [mpatches.Patch(color=NPS_CORES[i], label=NPS_ZONAS[i]) for i in range(len(NPS_ZONAS))]\n",
        "  plt.legend(handles=patches, bbox_to_anchor=(1,1))\n",
        "\n",
        "  plt.title(\"NPS\")\n",
        "\n",
        "  plt.show()\n",
        "\n",
        "criar_grafico_nps(nps)"
      ],
      "metadata": {
        "colab": {
          "base_uri": "https://localhost:8080/",
          "height": 157
        },
        "id": "xKA3RmRtwVL0",
        "outputId": "1f339eff-784a-4b5c-fa39-961e2d8179f7"
      },
      "execution_count": 12,
      "outputs": [
        {
          "output_type": "display_data",
          "data": {
            "text/plain": [
              "<Figure size 1000x200 with 1 Axes>"
            ],
            "image/png": "[encoded data removed]"
          },
          "metadata": {}
        }
      ]
    }
  ]
}